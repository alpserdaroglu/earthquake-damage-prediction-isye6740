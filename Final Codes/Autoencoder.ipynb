{
 "cells": [
  {
   "cell_type": "code",
   "execution_count": 1,
   "metadata": {},
   "outputs": [],
   "source": [
    "import torch\n",
    "import torch.nn as nn\n",
    "import torch.optim as optim\n",
    "from torch.utils.data import DataLoader, TensorDataset\n",
    "\n",
    "import pandas as pd\n",
    "import numpy as np"
   ]
  },
  {
   "cell_type": "code",
   "execution_count": 2,
   "metadata": {},
   "outputs": [
    {
     "data": {
      "text/plain": [
       "(260601, 13040)"
      ]
     },
     "execution_count": 2,
     "metadata": {},
     "output_type": "execute_result"
    }
   ],
   "source": [
    "input_dim = 13040\n",
    "latent_dim = 16\n",
    "\n",
    "train_val = pd.read_csv(\"train_values.csv\")\n",
    "train_labels = pd.read_csv(\"train_labels.csv\")\n",
    "\n",
    "geo_data_raw = train_val[[\"geo_level_1_id\",\"geo_level_2_id\",\"geo_level_3_id\"]]\n",
    "geo_data_raw = geo_data_raw.astype(\"category\")\n",
    "geo_data = pd.get_dummies(geo_data_raw)\n",
    "geo_data.shape"
   ]
  },
  {
   "cell_type": "code",
   "execution_count": 11,
   "metadata": {},
   "outputs": [
    {
     "data": {
      "text/plain": [
       "(60000, 13040)"
      ]
     },
     "execution_count": 11,
     "metadata": {},
     "output_type": "execute_result"
    }
   ],
   "source": [
    "geo_np = geo_data.to_numpy()\n",
    "\n",
    "rand_ind = np.random.choice(geo_np.shape[0], size = 60000, replace=False)\n",
    "#geo_np = geo_np[np.random.randint(geo_np.shape[0], size=60000,), :]\n",
    "geo_np = geo_np[rand_ind,:]\n",
    "\n",
    "geo_np.shape"
   ]
  },
  {
   "cell_type": "code",
   "execution_count": 12,
   "metadata": {},
   "outputs": [
    {
     "name": "stdout",
     "output_type": "stream",
     "text": [
      "(50000, 13040)\n",
      "(10000, 13040)\n"
     ]
    }
   ],
   "source": [
    "geo_np_test = geo_np[-10000:,:]\n",
    "geo_np = geo_np[0:50000,:]\n",
    "print(geo_np.shape)\n",
    "print(geo_np_test.shape)"
   ]
  },
  {
   "cell_type": "code",
   "execution_count": 14,
   "metadata": {},
   "outputs": [],
   "source": [
    "device = torch.device('cuda' if torch.cuda.is_available() else 'cpu')\n",
    "\n",
    "dummy_data = torch.from_numpy(geo_np).float().to(device)\n",
    "dummy_data_test = torch.from_numpy(geo_np_test).float().to(device)"
   ]
  },
  {
   "cell_type": "code",
   "execution_count": 17,
   "metadata": {},
   "outputs": [
    {
     "name": "stdout",
     "output_type": "stream",
     "text": [
      "Epoch [1/10], Train Loss: 0.000245, Test Loss: 0.000241\n",
      "Epoch [2/10], Train Loss: 0.000230, Test Loss: 0.000230\n",
      "Epoch [3/10], Train Loss: 0.000228, Test Loss: 0.000228\n",
      "Epoch [4/10], Train Loss: 0.000227, Test Loss: 0.000226\n",
      "Epoch [5/10], Train Loss: 0.000226, Test Loss: 0.000226\n",
      "Epoch [6/10], Train Loss: 0.000226, Test Loss: 0.000226\n",
      "Epoch [7/10], Train Loss: 0.000226, Test Loss: 0.000226\n",
      "Epoch [8/10], Train Loss: 0.000226, Test Loss: 0.000226\n",
      "Epoch [9/10], Train Loss: 0.000226, Test Loss: 0.000226\n",
      "Epoch [10/10], Train Loss: 0.000225, Test Loss: 0.000226\n"
     ]
    }
   ],
   "source": [
    "# Check if a GPU is available\n",
    "# device = torch.device('cuda' if torch.cuda.is_available() else 'cpu')\n",
    "\n",
    "class Autoencoder(nn.Module):\n",
    "    def __init__(self, input_dim, latent_dim):\n",
    "        super(Autoencoder, self).__init__()\n",
    "        self.encoder = nn.Sequential(\n",
    "            nn.Linear(input_dim, 256),\n",
    "            nn.ReLU(),\n",
    "            nn.Linear(256, latent_dim)\n",
    "        )\n",
    "        self.decoder = nn.Sequential(\n",
    "            nn.Linear(latent_dim, 256),\n",
    "            nn.ReLU(),\n",
    "            nn.Linear(256, input_dim),\n",
    "            nn.Sigmoid()  # Sigmoid activation to scale values between 0 and 1\n",
    "        )\n",
    "\n",
    "    def forward(self, x):\n",
    "        x = self.encoder(x)\n",
    "        x = self.decoder(x)\n",
    "        return x\n",
    "\n",
    "torch.manual_seed(42)\n",
    "\n",
    "model = Autoencoder(input_dim, latent_dim).to(device)\n",
    "\n",
    "criterion = nn.MSELoss()\n",
    "optimizer = optim.Adam(model.parameters(), lr=0.001)\n",
    "\n",
    "batch_size = 1024\n",
    "data_loader = DataLoader(TensorDataset(dummy_data), batch_size=batch_size, shuffle=True)\n",
    "test_data_loader = DataLoader(TensorDataset(dummy_data_test), batch_size=batch_size, shuffle=True)\n",
    "\n",
    "# Training loop\n",
    "num_epochs = 10\n",
    "for epoch in range(num_epochs):\n",
    "    for batch in data_loader:\n",
    "        inputs, = batch\n",
    "        inputs = inputs.to(device)\n",
    "\n",
    "        outputs = model(inputs)\n",
    "\n",
    "        loss = criterion(outputs, inputs)\n",
    "\n",
    "        optimizer.zero_grad()\n",
    "        loss.backward()\n",
    "        optimizer.step()\n",
    "\n",
    "    model.eval()\n",
    "    total_test_loss = 0.0\n",
    "    num_batches_test = 0\n",
    "\n",
    "    with torch.no_grad():\n",
    "        for test_batch in test_data_loader:\n",
    "            test_inputs, = test_batch\n",
    "            test_inputs = test_inputs.to(device)\n",
    "\n",
    "            test_outputs = model(test_inputs)\n",
    "\n",
    "            test_loss = criterion(test_outputs, test_inputs)\n",
    "            total_test_loss += test_loss.item()\n",
    "            num_batches_test += 1\n",
    "\n",
    "    average_test_loss = total_test_loss / num_batches_test\n",
    "\n",
    "    #print(f'Epoch [{epoch+1}/{num_epochs}], Loss: {loss.item():.6f}')\n",
    "    print(f'Epoch [{epoch+1}/{num_epochs}], Train Loss: {loss.item():.6f}, Test Loss: {average_test_loss:.6f}')\n",
    "\n",
    "\n",
    "torch.save(model.state_dict(), 'autoencoder_model.pth')\n"
   ]
  },
  {
   "cell_type": "code",
   "execution_count": 10,
   "metadata": {},
   "outputs": [
    {
     "data": {
      "text/plain": [
       "(260601, 13040)"
      ]
     },
     "execution_count": 10,
     "metadata": {},
     "output_type": "execute_result"
    }
   ],
   "source": [
    "geo_np_all = geo_data.to_numpy()\n",
    "geo_np_all.shape"
   ]
  },
  {
   "cell_type": "code",
   "execution_count": 11,
   "metadata": {},
   "outputs": [
    {
     "name": "stdout",
     "output_type": "stream",
     "text": [
      "Autoencoder(\n",
      "  (encoder): Sequential(\n",
      "    (0): Linear(in_features=13040, out_features=256, bias=True)\n",
      "    (1): ReLU()\n",
      "    (2): Linear(in_features=256, out_features=16, bias=True)\n",
      "  )\n",
      "  (decoder): Sequential(\n",
      "    (0): Linear(in_features=16, out_features=256, bias=True)\n",
      "    (1): ReLU()\n",
      "    (2): Linear(in_features=256, out_features=13040, bias=True)\n",
      "    (3): Sigmoid()\n",
      "  )\n",
      ")\n"
     ]
    }
   ],
   "source": [
    "print(model)"
   ]
  },
  {
   "cell_type": "code",
   "execution_count": 12,
   "metadata": {},
   "outputs": [],
   "source": [
    "weight_1 = model.encoder[0].weight.detach().numpy()\n",
    "weight_2 = model.encoder[2].weight.detach().numpy()\n",
    "# x * (x > 0)"
   ]
  },
  {
   "cell_type": "code",
   "execution_count": 13,
   "metadata": {},
   "outputs": [
    {
     "data": {
      "text/plain": [
       "(260000, 16)"
      ]
     },
     "execution_count": 13,
     "metadata": {},
     "output_type": "execute_result"
    }
   ],
   "source": [
    "geo_new = np.empty((1,16))\n",
    "for i in range(0,26):\n",
    "    # print(10000*i)\n",
    "    # print(10000*i+9999+1)\n",
    "\n",
    "    start = 10000*i\n",
    "    end = 10000*i+10000\n",
    "\n",
    "    temp = geo_np_all[start:end,:]\n",
    "    #print(temp.shape[0])\n",
    "\n",
    "    out = weight_1 @ temp.T\n",
    "    out = out * (out > 0)\n",
    "    out = weight_2 @ out\n",
    "    out = out.T\n",
    "\n",
    "    geo_new = np.vstack([geo_new, out])\n",
    "\n",
    "geo_new = np.delete(geo_new,0,axis=0)\n",
    "geo_new.shape"
   ]
  },
  {
   "cell_type": "code",
   "execution_count": 31,
   "metadata": {},
   "outputs": [
    {
     "name": "stdout",
     "output_type": "stream",
     "text": [
      "(601, 13040)\n"
     ]
    }
   ],
   "source": [
    "temp = geo_np_all[-601:,:]\n",
    "print(temp.shape)"
   ]
  },
  {
   "cell_type": "code",
   "execution_count": 32,
   "metadata": {},
   "outputs": [
    {
     "data": {
      "text/plain": [
       "(260601, 16)"
      ]
     },
     "execution_count": 32,
     "metadata": {},
     "output_type": "execute_result"
    }
   ],
   "source": [
    "out = weight_1 @ temp.T\n",
    "out = out * (out > 0)\n",
    "out = weight_2 @ out\n",
    "out = out.T\n",
    "\n",
    "geo_new = np.vstack([geo_new, out])\n",
    "geo_new.shape"
   ]
  },
  {
   "cell_type": "code",
   "execution_count": 33,
   "metadata": {},
   "outputs": [],
   "source": [
    "np.savetxt(\"Geo_Data_Train_Sigmoid.csv\", geo_new, delimiter=\",\")"
   ]
  }
 ],
 "metadata": {
  "kernelspec": {
   "display_name": "Python 3",
   "language": "python",
   "name": "python3"
  },
  "language_info": {
   "codemirror_mode": {
    "name": "ipython",
    "version": 3
   },
   "file_extension": ".py",
   "mimetype": "text/x-python",
   "name": "python",
   "nbconvert_exporter": "python",
   "pygments_lexer": "ipython3",
   "version": "3.10.11"
  }
 },
 "nbformat": 4,
 "nbformat_minor": 2
}
