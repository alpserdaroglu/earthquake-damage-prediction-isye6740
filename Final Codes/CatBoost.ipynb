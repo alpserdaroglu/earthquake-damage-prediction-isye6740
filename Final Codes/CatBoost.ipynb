{
 "cells": [
  {
   "cell_type": "code",
   "execution_count": null,
   "metadata": {},
   "outputs": [],
   "source": [
    "import numpy as np\n",
    "import pandas as pd\n",
    "\n",
    "# from sklearn.tree import DecisionTreeClassifier\n",
    "# from sklearn.tree import DecisionTreeRegressor\n",
    "\n",
    "# from sklearn.ensemble import RandomForestClassifier\n",
    "# from sklearn.ensemble import RandomForestRegressor\n",
    "\n",
    "# from sklearn.model_selection import GridSearchCV\n",
    "from sklearn.model_selection import train_test_split\n",
    "\n",
    "from sklearn.metrics import confusion_matrix\n",
    "from sklearn.metrics import accuracy_score\n",
    "from sklearn.metrics import f1_score\n",
    "from sklearn.metrics import recall_score\n",
    "from sklearn.metrics import precision_score\n",
    "from sklearn.metrics import classification_report\n",
    "\n",
    "from catboost import CatBoostClassifier\n",
    "from catboost import Pool\n",
    "\n",
    "import warnings\n",
    "warnings.filterwarnings('ignore')"
   ]
  },
  {
   "cell_type": "code",
   "execution_count": null,
   "metadata": {},
   "outputs": [],
   "source": [
    "train_val = pd.read_csv(\"train_values.csv\")\n",
    "train_labels = pd.read_csv(\"train_labels.csv\")\n",
    "\n",
    "base_string = \"geo_\"\n",
    "num_columns = 16  # You can change this to the number of columns you want\n",
    "column_list = [base_string + str(i) for i in range(1, num_columns + 1)]\n",
    "\n",
    "geo_raw_data = pd.read_csv(\"Geo_Data_Train.csv\", header=None)\n",
    "\n",
    "print(train_val.shape)\n",
    "print(train_labels.shape)\n",
    "print(geo_raw_data.shape)"
   ]
  },
  {
   "cell_type": "code",
   "execution_count": null,
   "metadata": {},
   "outputs": [],
   "source": [
    "geo_raw_data.columns = column_list\n",
    "geo_raw_data.info()"
   ]
  },
  {
   "cell_type": "code",
   "execution_count": null,
   "metadata": {},
   "outputs": [],
   "source": [
    "train_val[train_val.columns[train_val.nunique() <= 2]] = train_val[train_val.columns[train_val.nunique() <= 2]].astype(\"category\")\n",
    "\n",
    "train_val = train_val.drop([\"geo_level_1_id\", \"geo_level_2_id\", \"geo_level_3_id\"], axis = 1)\n",
    "train_val = train_val.drop([\"building_id\"], axis=1)"
   ]
  },
  {
   "cell_type": "code",
   "execution_count": null,
   "metadata": {},
   "outputs": [],
   "source": [
    "cat_cols=['land_surface_condition', 'foundation_type', 'roof_type',\n",
    "       'ground_floor_type', 'other_floor_type', 'position',\n",
    "       'plan_configuration', 'has_superstructure_adobe_mud',\n",
    "       'has_superstructure_mud_mortar_stone', 'has_superstructure_stone_flag',\n",
    "       'has_superstructure_cement_mortar_stone',\n",
    "       'has_superstructure_mud_mortar_brick',\n",
    "       'has_superstructure_cement_mortar_brick', 'has_superstructure_timber',\n",
    "       'has_superstructure_bamboo', 'has_superstructure_rc_non_engineered',\n",
    "       'has_superstructure_rc_engineered', 'has_superstructure_other',\n",
    "       'legal_ownership_status', 'has_secondary_use',\n",
    "       'has_secondary_use_agriculture', 'has_secondary_use_hotel',\n",
    "       'has_secondary_use_rental', 'has_secondary_use_institution',\n",
    "       'has_secondary_use_school', 'has_secondary_use_industry',\n",
    "       'has_secondary_use_health_post', 'has_secondary_use_gov_office',\n",
    "       'has_secondary_use_use_police', 'has_secondary_use_other']"
   ]
  },
  {
   "cell_type": "code",
   "execution_count": null,
   "metadata": {},
   "outputs": [],
   "source": [
    "#train_final = pd.get_dummies(train_val)\n",
    "train_final = train_val\n",
    "train_final.info()"
   ]
  },
  {
   "cell_type": "code",
   "execution_count": null,
   "metadata": {},
   "outputs": [],
   "source": [
    "train_merged = pd.concat([train_val, geo_raw_data],ignore_index=False,axis=1)\n",
    "train_merged.shape"
   ]
  },
  {
   "cell_type": "code",
   "execution_count": null,
   "metadata": {},
   "outputs": [],
   "source": [
    "del(train_final)\n",
    "del(geo_raw_data)\n",
    "train_merged.info()"
   ]
  },
  {
   "cell_type": "code",
   "execution_count": null,
   "metadata": {},
   "outputs": [],
   "source": [
    "train_labels[\"target_1\"] = np.where(train_labels[\"damage_grade\"] >= 2, True, False)\n",
    "train_labels[\"target_2\"] = np.where(train_labels[\"damage_grade\"] >= 3, True, False)"
   ]
  },
  {
   "cell_type": "code",
   "execution_count": null,
   "metadata": {},
   "outputs": [],
   "source": [
    "X_train, X_test, Y_train, Y_test = train_test_split(train_merged,train_labels, random_state=31, test_size=0.2)\n",
    "print(X_train.shape)\n",
    "print(X_test.shape)\n",
    "print(Y_train.shape)\n",
    "print(Y_test.shape)"
   ]
  },
  {
   "cell_type": "code",
   "execution_count": null,
   "metadata": {},
   "outputs": [],
   "source": [
    "X_train, X_valid, Y_train, Y_valid = train_test_split(X_train,Y_train, random_state=31, test_size=0.15)\n",
    "print(X_train.shape)\n",
    "print(X_valid.shape)\n",
    "print(Y_train.shape)\n",
    "print(Y_valid.shape)\n",
    "\n",
    "train_data = Pool(data=X_train,\n",
    "                  label=Y_train[\"damage_grade\"],\n",
    "                  cat_features=cat_cols\n",
    "                 )\n",
    "\n",
    "valid_data = Pool(data=X_valid,\n",
    "                  label=Y_valid[\"damage_grade\"],\n",
    "                  cat_features=cat_cols\n",
    "                 )"
   ]
  },
  {
   "cell_type": "markdown",
   "metadata": {},
   "source": [
    "# Classification"
   ]
  },
  {
   "cell_type": "code",
   "execution_count": null,
   "metadata": {},
   "outputs": [],
   "source": [
    "clf = CatBoostClassifier(cat_features=cat_cols)# Fit model\n",
    "clf.fit(train_data,\n",
    "        eval_set = valid_data)"
   ]
  },
  {
   "cell_type": "code",
   "execution_count": null,
   "metadata": {},
   "outputs": [],
   "source": [
    "pred_cat_boost_class = clf.predict(X_train)\n",
    "pred_cat_boost_class_test = clf.predict(X_test)\n",
    "\n",
    "print(confusion_matrix(Y_train[\"damage_grade\"],pred_cat_boost_class))\n",
    "print(confusion_matrix(Y_test[\"damage_grade\"],pred_cat_boost_class_test))\n",
    "print(accuracy_score(Y_train[\"damage_grade\"],pred_cat_boost_class))\n",
    "print(accuracy_score(Y_test[\"damage_grade\"],pred_cat_boost_class_test))\n",
    "# print(f1_score(Y_train[\"damage_grade\"],pred_rf_class_best,average=\"micro\"))\n",
    "# print(f1_score(Y_test[\"damage_grade\"],pred_rf_class_best_test,average=\"micro\"))\n",
    "print(classification_report(Y_train[\"damage_grade\"],pred_cat_boost_class))\n",
    "print(classification_report(Y_test[\"damage_grade\"],pred_cat_boost_class_test))"
   ]
  },
  {
   "cell_type": "markdown",
   "metadata": {},
   "source": [
    "# Ordinal Classification"
   ]
  },
  {
   "cell_type": "code",
   "execution_count": null,
   "metadata": {},
   "outputs": [],
   "source": [
    "train_data_2 = Pool(data=X_train,\n",
    "                  label=Y_train[\"target_1\"],\n",
    "                  cat_features=cat_cols\n",
    "                 )\n",
    "\n",
    "valid_data_2 = Pool(data=X_valid,\n",
    "                  label=Y_valid[\"target_1\"],\n",
    "                  cat_features=cat_cols\n",
    "                 )\n",
    "\n",
    "train_data_3 = Pool(data=X_train,\n",
    "                  label=Y_train[\"target_2\"],\n",
    "                  cat_features=cat_cols\n",
    "                 )\n",
    "\n",
    "valid_data_3 = Pool(data=X_valid,\n",
    "                  label=Y_valid[\"target_2\"],\n",
    "                  cat_features=cat_cols\n",
    "                 )"
   ]
  },
  {
   "cell_type": "code",
   "execution_count": null,
   "metadata": {},
   "outputs": [],
   "source": [
    "clf_2 = CatBoostClassifier(cat_features=cat_cols)# Fit model\n",
    "clf_2.fit(train_data_2,\n",
    "        eval_set = valid_data_2)"
   ]
  },
  {
   "cell_type": "code",
   "execution_count": null,
   "metadata": {},
   "outputs": [],
   "source": [
    "clf_3 = CatBoostClassifier(cat_features=cat_cols)# Fit model\n",
    "clf_3.fit(train_data_3,\n",
    "        eval_set = valid_data_3)"
   ]
  },
  {
   "cell_type": "code",
   "execution_count": null,
   "metadata": {},
   "outputs": [],
   "source": [
    "prob_23 = clf_2.predict_proba(X_train)\n",
    "prob_23_test = clf_2.predict_proba(X_test)\n",
    "\n",
    "prob_3 = clf_3.predict_proba(X_train)\n",
    "prob_3_test = clf_3.predict_proba(X_test)"
   ]
  },
  {
   "cell_type": "code",
   "execution_count": null,
   "metadata": {},
   "outputs": [],
   "source": [
    "\n",
    "grade_1 = prob_23[:,0]\n",
    "grade_2 = prob_23[:,1] - prob_3[:,1]\n",
    "grade_3 = prob_3[:,1]\n",
    "sum_prob = grade_1 + grade_2 + grade_3\n",
    "\n",
    "grade_probs = np.array([grade_1,grade_2,grade_3])\n",
    "grade_probs = grade_probs.T\n",
    "pred_ord = np.argmax(grade_probs,axis=1)+1\n",
    "\n",
    "grade_1_test = prob_23_test[:,0]\n",
    "grade_2_test = prob_23_test[:,1] - prob_3_test[:,1]\n",
    "grade_3_test = prob_3_test[:,1]\n",
    "sum_prob = grade_1_test + grade_2_test + grade_3_test\n",
    "\n",
    "grade_probs_test = np.array([grade_1_test,grade_2_test,grade_3_test])\n",
    "grade_probs_test = grade_probs_test.T\n",
    "pred_ord_test = np.argmax(grade_probs_test,axis=1)+1"
   ]
  },
  {
   "cell_type": "code",
   "execution_count": null,
   "metadata": {},
   "outputs": [],
   "source": [
    "print(confusion_matrix(Y_train[\"damage_grade\"],pred_ord))\n",
    "print(confusion_matrix(Y_test[\"damage_grade\"],pred_ord_test))\n",
    "print(accuracy_score(Y_train[\"damage_grade\"],pred_ord))\n",
    "print(accuracy_score(Y_test[\"damage_grade\"],pred_ord_test))\n",
    "# print(f1_score(Y_train[\"damage_grade\"],pred_ord,average=\"micro\"))\n",
    "# print(f1_score(Y_test[\"damage_grade\"],pred_ord_test,average=\"micro\"))\n",
    "print(classification_report(Y_train[\"damage_grade\"],pred_ord))\n",
    "print(classification_report(Y_test[\"damage_grade\"],pred_ord_test))"
   ]
  }
 ],
 "metadata": {
  "kernelspec": {
   "display_name": "Python 3",
   "language": "python",
   "name": "python3"
  },
  "language_info": {
   "codemirror_mode": {
    "name": "ipython",
    "version": 3
   },
   "file_extension": ".py",
   "mimetype": "text/x-python",
   "name": "python",
   "nbconvert_exporter": "python",
   "pygments_lexer": "ipython3",
   "version": "3.10.11"
  }
 },
 "nbformat": 4,
 "nbformat_minor": 2
}
